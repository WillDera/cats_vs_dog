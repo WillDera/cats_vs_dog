{
  "nbformat": 4,
  "nbformat_minor": 0,
  "metadata": {
    "colab": {
      "name": "cats_and_dogs_convNet.ipynb",
      "provenance": [],
      "collapsed_sections": [],
      "authorship_tag": "ABX9TyOA/ghGBpOqAvuIWRK0UJHV",
      "include_colab_link": true
    },
    "kernelspec": {
      "name": "python3",
      "display_name": "Python 3"
    }
  },
  "cells": [
    {
      "cell_type": "markdown",
      "metadata": {
        "id": "view-in-github",
        "colab_type": "text"
      },
      "source": [
        "<a href=\"https://colab.research.google.com/github/WillDera/cats_vs_dog/blob/master/cats_and_dogs_convNet.ipynb\" target=\"_parent\"><img src=\"https://colab.research.google.com/assets/colab-badge.svg\" alt=\"Open In Colab\"/></a>"
      ]
    },
    {
      "cell_type": "code",
      "metadata": {
        "id": "QaUuuMRxardF",
        "colab_type": "code",
        "colab": {
          "base_uri": "https://localhost:8080/",
          "height": 34
        },
        "outputId": "894b43ef-93cd-4824-e5d5-c3f5e88339f4"
      },
      "source": [
        "from google.colab import drive\n",
        "drive.mount('/content/gdrive')"
      ],
      "execution_count": 9,
      "outputs": [
        {
          "output_type": "stream",
          "text": [
            "Drive already mounted at /content/gdrive; to attempt to forcibly remount, call drive.mount(\"/content/gdrive\", force_remount=True).\n"
          ],
          "name": "stdout"
        }
      ]
    },
    {
      "cell_type": "code",
      "metadata": {
        "id": "K8eaJ7z_vePt",
        "colab_type": "code",
        "colab": {}
      },
      "source": [
        "TRAIN_DIR = \"/content/gdrive/My Drive/Kaggle/cats_dogs_dataset/training_set/training_set\"\n",
        "TEST_DIR = \"/content/gdrive/My Drive/Kaggle/cats_dogs_dataset/test_set/test_set\""
      ],
      "execution_count": 10,
      "outputs": []
    },
    {
      "cell_type": "code",
      "metadata": {
        "id": "wz5qVq6KNJ1T",
        "colab_type": "code",
        "colab": {
          "base_uri": "https://localhost:8080/",
          "height": 34
        },
        "outputId": "8528d52c-f73d-44eb-908c-fcfef39f6708"
      },
      "source": [
        "!pip3 install pillow"
      ],
      "execution_count": 17,
      "outputs": [
        {
          "output_type": "stream",
          "text": [
            "Requirement already satisfied: pillow in /usr/local/lib/python3.6/dist-packages (7.0.0)\n"
          ],
          "name": "stdout"
        }
      ]
    },
    {
      "cell_type": "code",
      "metadata": {
        "id": "i0urKSKv6ovb",
        "colab_type": "code",
        "colab": {}
      },
      "source": [
        "\n",
        "# baseline model for the dogs vs cats dataset\n",
        "import sys\n",
        "import PIL\n",
        "from matplotlib import pyplot\n",
        "from keras.utils import to_categorical\n",
        "from keras.models import Sequential\n",
        "from keras.layers import Conv2D\n",
        "from keras.layers import MaxPooling2D\n",
        "from keras.layers import Dense\n",
        "from keras.layers import Flatten\n",
        "from keras.optimizers import SGD, Adam, RMSprop\n",
        "from keras.preprocessing.image import ImageDataGenerator"
      ],
      "execution_count": 18,
      "outputs": []
    },
    {
      "cell_type": "code",
      "metadata": {
        "id": "Ta8Sc3R5tmQt",
        "colab_type": "code",
        "colab": {}
      },
      "source": [
        "# define cnn model\n",
        "def define_model():\n",
        "  model = Sequential()\n",
        "  model.add(Conv2D(16, (5, 5), activation='relu', kernel_initializer='he_uniform', padding='same', input_shape=(28, 28, 3)))\n",
        "  model.add(MaxPooling2D((2, 2)))\n",
        "  model.add(Conv2D(8, (3, 3), activation='relu', kernel_initializer='he_uniform'))\n",
        "  model.add(MaxPooling2D((2, 2)))\n",
        "  model.add(Flatten())\n",
        "  model.add(Dense(500, activation='relu', kernel_initializer='he_uniform'))\n",
        "  model.add(Dense(300, activation='relu', kernel_initializer='he_uniform'))\n",
        "  model.add(Dense(10, activation='sigmoid'))\n",
        " \n",
        "  # compile model\n",
        "  opt = SGD(lr=0.001, momentum=0.9)\n",
        "  model.compile(optimizer=opt, loss='binary_crossentropy', metrics=['accuracy'])\n",
        "  return model"
      ],
      "execution_count": 20,
      "outputs": []
    },
    {
      "cell_type": "code",
      "metadata": {
        "id": "IM7vmou0xptO",
        "colab_type": "code",
        "colab": {}
      },
      "source": [
        "# plot diagnostic learning curve\n",
        "def summarize_diagnostics(history):\n",
        "  # plot loss\n",
        "  pyplot.subplot(211)\n",
        "  pyplot.title(\"binary_crossentropy lost\")\n",
        "  pyplot.plot(history.history['loss'], color='blue', label='train')\n",
        "  pyplot.plot(history.history['val_loss'], color='orange', label='test')\n",
        " \n",
        "  # plot accuracy\n",
        "  pyplot.subplot(212)\n",
        "  pyplot.title(\"classification accurcay\")\n",
        "  pyplot.plot(history.history['accuracy'], color='blue', label='train')\n",
        "  pyplot.plot(history.history['val_accuracy'], color='orange', label='test')\n",
        " \n",
        "  # save plot to file\n",
        "  filename = sys.argv[0].split('/')[-1]\n",
        "  pyplot.savefig(filename + '_plot.png')\n",
        "  pyplot.close()"
      ],
      "execution_count": 13,
      "outputs": []
    },
    {
      "cell_type": "code",
      "metadata": {
        "id": "1mzRajoR2ApN",
        "colab_type": "code",
        "colab": {
          "base_uri": "https://localhost:8080/",
          "height": 105
        },
        "outputId": "31659308-5102-4538-e7e6-60efc223f74f"
      },
      "source": [
        "# run the test harness for evaluating a model\n",
        "def run_test_harness():\n",
        "  # define model\n",
        "  model = define_model()\n",
        " \n",
        "  # create data generator\n",
        "  datagen = ImageDataGenerator(rescale=1.0/255.0)\n",
        " \n",
        "  # prepare iterators\n",
        "  train_it = datagen.flow_from_directory(TRAIN_DIR, class_mode='binary', batch_size=64, target_size=(28, 28))\n",
        "  test_it = datagen.flow_from_directory(TEST_DIR, class_mode='binary', batch_size=64, target_size=(28, 28))\n",
        " \n",
        "  # fit model\n",
        "  history = model.fit_generator(train_it, steps_per_epoch=len(train_it), \n",
        "                                validation_data=test_it, validation_steps=len(test_it), epochs=20, verbose=0)\n",
        "  \n",
        "  # evaluate model\n",
        "  _, acc = model.evaluate_generator(test_it, steps=len(test_it), verbose=0)\n",
        "  print('> %.3f' % (acc * 100.0))\n",
        " \n",
        "  # learning curves\n",
        "  summarize_diagnostics(history)\n",
        " \n",
        "# entry point, run the test harness\n",
        "run_test_harness()"
      ],
      "execution_count": null,
      "outputs": [
        {
          "output_type": "stream",
          "text": [
            "Found 8005 images belonging to 2 classes.\n",
            "Found 2023 images belonging to 2 classes.\n"
          ],
          "name": "stdout"
        },
        {
          "output_type": "stream",
          "text": [
            "/usr/local/lib/python3.6/dist-packages/keras/utils/data_utils.py:616: UserWarning: The input 43 could not be retrieved. It could be because a worker has died.\n",
            "  UserWarning)\n"
          ],
          "name": "stderr"
        }
      ]
    },
    {
      "cell_type": "code",
      "metadata": {
        "id": "mH72GyLqNtRK",
        "colab_type": "code",
        "colab": {}
      },
      "source": [
        ""
      ],
      "execution_count": null,
      "outputs": []
    }
  ]
}